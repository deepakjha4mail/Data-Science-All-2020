{
 "cells": [
  {
   "cell_type": "code",
   "execution_count": 32,
   "metadata": {},
   "outputs": [
    {
     "name": "stdout",
     "output_type": "stream",
     "text": [
      "======================SkLearn - Model Selection - Train_Test_Split!=========================================\n",
      "==================================================================================================\n"
     ]
    }
   ],
   "source": [
    "print(\"======================SkLearn - Model Selection - Train_Test_Split!=========================================\")\n",
    "print(\"==================================================================================================\")"
   ]
  },
  {
   "cell_type": "code",
   "execution_count": 33,
   "metadata": {},
   "outputs": [],
   "source": [
    "# Import numpy as np\n",
    "# Import train_test_split from sklearn.model_selection\n",
    "# Define Variable X, y as 'numpy.ndarray' and 'range' with Defined Range and Shape Parameters:\n",
    "\n",
    "import numpy as np\n",
    "from sklearn.model_selection import train_test_split\n",
    "\n",
    "X, y = np.arange(20).reshape(10,2), range(10)"
   ]
  },
  {
   "cell_type": "code",
   "execution_count": 47,
   "metadata": {},
   "outputs": [
    {
     "name": "stdout",
     "output_type": "stream",
     "text": [
      "<class 'numpy.ndarray'>\n"
     ]
    },
    {
     "data": {
      "text/plain": [
       "array([[ 0,  1],\n",
       "       [ 2,  3],\n",
       "       [ 4,  5],\n",
       "       [ 6,  7],\n",
       "       [ 8,  9],\n",
       "       [10, 11],\n",
       "       [12, 13],\n",
       "       [14, 15],\n",
       "       [16, 17],\n",
       "       [18, 19]])"
      ]
     },
     "execution_count": 47,
     "metadata": {},
     "output_type": "execute_result"
    }
   ],
   "source": [
    "# Print the Type of Variable X with Values:\n",
    "\n",
    "print(type(X))\n",
    "X"
   ]
  },
  {
   "cell_type": "code",
   "execution_count": 48,
   "metadata": {},
   "outputs": [
    {
     "name": "stdout",
     "output_type": "stream",
     "text": [
      "<class 'range'>\n"
     ]
    },
    {
     "data": {
      "text/plain": [
       "range(0, 10)"
      ]
     },
     "execution_count": 48,
     "metadata": {},
     "output_type": "execute_result"
    }
   ],
   "source": [
    "# Print the Type of Variable y with Range:\n",
    "\n",
    "print(type(y))\n",
    "y"
   ]
  },
  {
   "cell_type": "code",
   "execution_count": 36,
   "metadata": {},
   "outputs": [
    {
     "data": {
      "text/plain": [
       "[0, 1, 2, 3, 4, 5, 6, 7, 8, 9]"
      ]
     },
     "execution_count": 36,
     "metadata": {},
     "output_type": "execute_result"
    }
   ],
   "source": [
    "# Print the Type of Variable y with Range-Values:\n",
    "\n",
    "list(y)"
   ]
  },
  {
   "cell_type": "code",
   "execution_count": 37,
   "metadata": {},
   "outputs": [],
   "source": [
    "# Splitting Of TRAIN-TEST Data Percentage with A Random State Variable Used to Shuffle Values: Case 01\n",
    "# Fixed Value for Random State with a Fixed % Vale of Test Data will Always Create Fixed Values-Size of Train-Test Data:\n",
    "\n",
    "X_train,x_test,Y_train, y_test = train_test_split(X,y,test_size = 0.25, random_state = 10)"
   ]
  },
  {
   "cell_type": "code",
   "execution_count": 38,
   "metadata": {},
   "outputs": [
    {
     "name": "stdout",
     "output_type": "stream",
     "text": [
      "<class 'numpy.ndarray'>\n"
     ]
    },
    {
     "data": {
      "text/plain": [
       "array([[12, 13],\n",
       "       [ 6,  7],\n",
       "       [ 2,  3],\n",
       "       [ 0,  1],\n",
       "       [14, 15],\n",
       "       [ 8,  9],\n",
       "       [18, 19]])"
      ]
     },
     "execution_count": 38,
     "metadata": {},
     "output_type": "execute_result"
    }
   ],
   "source": [
    "# Display the Type and Value of: X_train\n",
    "\n",
    "print(type(X_train))\n",
    "X_train"
   ]
  },
  {
   "cell_type": "code",
   "execution_count": 39,
   "metadata": {},
   "outputs": [
    {
     "name": "stdout",
     "output_type": "stream",
     "text": [
      "<class 'numpy.ndarray'>\n"
     ]
    },
    {
     "data": {
      "text/plain": [
       "array([[16, 17],\n",
       "       [ 4,  5],\n",
       "       [10, 11]])"
      ]
     },
     "execution_count": 39,
     "metadata": {},
     "output_type": "execute_result"
    }
   ],
   "source": [
    "# Display the Type and Value of: x_test\n",
    "print(type(x_test))\n",
    "x_test"
   ]
  },
  {
   "cell_type": "code",
   "execution_count": 40,
   "metadata": {},
   "outputs": [
    {
     "name": "stdout",
     "output_type": "stream",
     "text": [
      "<class 'list'>\n"
     ]
    },
    {
     "data": {
      "text/plain": [
       "[6, 3, 1, 0, 7, 4, 9]"
      ]
     },
     "execution_count": 40,
     "metadata": {},
     "output_type": "execute_result"
    }
   ],
   "source": [
    "# Display the Type and Value of: Y_train\n",
    "\n",
    "print(type(Y_train))\n",
    "Y_train"
   ]
  },
  {
   "cell_type": "code",
   "execution_count": 41,
   "metadata": {},
   "outputs": [
    {
     "name": "stdout",
     "output_type": "stream",
     "text": [
      "<class 'list'>\n"
     ]
    },
    {
     "data": {
      "text/plain": [
       "[8, 2, 5]"
      ]
     },
     "execution_count": 41,
     "metadata": {},
     "output_type": "execute_result"
    }
   ],
   "source": [
    "# Display the Type and Value of: y_test\n",
    "\n",
    "print(type(y_test))\n",
    "y_test"
   ]
  },
  {
   "cell_type": "code",
   "execution_count": 42,
   "metadata": {},
   "outputs": [],
   "source": [
    "# Splitting Of 'TRAIN-TEST' Data Percentage with A 'Random State' Variable Used to Shuffle Values: Case 02\n",
    "# Fixed Value for Random State with a Fixed % Vale of Test Data will Always Create Fixed Values-Size of Train-Test Data:\n",
    "\n",
    "X_train,x_test,Y_train, y_test = train_test_split(X,y,test_size = 0.25, random_state = 20)"
   ]
  },
  {
   "cell_type": "code",
   "execution_count": 43,
   "metadata": {},
   "outputs": [
    {
     "name": "stdout",
     "output_type": "stream",
     "text": [
      "<class 'numpy.ndarray'>\n"
     ]
    },
    {
     "data": {
      "text/plain": [
       "array([[10, 11],\n",
       "       [ 0,  1],\n",
       "       [ 4,  5],\n",
       "       [12, 13],\n",
       "       [18, 19],\n",
       "       [ 8,  9],\n",
       "       [ 6,  7]])"
      ]
     },
     "execution_count": 43,
     "metadata": {},
     "output_type": "execute_result"
    }
   ],
   "source": [
    "# Display the Type and Value of: X_train\n",
    "print(type(X_train))\n",
    "X_train"
   ]
  },
  {
   "cell_type": "code",
   "execution_count": 44,
   "metadata": {},
   "outputs": [
    {
     "name": "stdout",
     "output_type": "stream",
     "text": [
      "<class 'numpy.ndarray'>\n"
     ]
    },
    {
     "data": {
      "text/plain": [
       "array([[14, 15],\n",
       "       [ 2,  3],\n",
       "       [16, 17]])"
      ]
     },
     "execution_count": 44,
     "metadata": {},
     "output_type": "execute_result"
    }
   ],
   "source": [
    "# Display the Type and Value of: x_test\n",
    "\n",
    "print(type(x_test))\n",
    "x_test"
   ]
  },
  {
   "cell_type": "code",
   "execution_count": 45,
   "metadata": {},
   "outputs": [
    {
     "name": "stdout",
     "output_type": "stream",
     "text": [
      "<class 'list'>\n"
     ]
    },
    {
     "data": {
      "text/plain": [
       "[5, 0, 2, 6, 9, 4, 3]"
      ]
     },
     "execution_count": 45,
     "metadata": {},
     "output_type": "execute_result"
    }
   ],
   "source": [
    "# Display the Type and Value of: Y_train\n",
    "\n",
    "print(type(Y_train))\n",
    "Y_train"
   ]
  },
  {
   "cell_type": "code",
   "execution_count": 46,
   "metadata": {},
   "outputs": [
    {
     "name": "stdout",
     "output_type": "stream",
     "text": [
      "<class 'list'>\n"
     ]
    },
    {
     "data": {
      "text/plain": [
       "[7, 1, 8]"
      ]
     },
     "execution_count": 46,
     "metadata": {},
     "output_type": "execute_result"
    }
   ],
   "source": [
    "# Display the Type and Value of: y_test\n",
    "\n",
    "print(type(y_test))\n",
    "y_test"
   ]
  },
  {
   "cell_type": "code",
   "execution_count": 50,
   "metadata": {},
   "outputs": [
    {
     "data": {
      "text/plain": [
       "[[0, 1, 2, 3, 4, 5, 6], [7, 8, 9]]"
      ]
     },
     "execution_count": 50,
     "metadata": {},
     "output_type": "execute_result"
    }
   ],
   "source": [
    "# Split the Variable(Array/Range) into Train-Test Data as per Defined % and Defined shuffle value:False\n",
    "\n",
    "train_test_split(y, shuffle = False)"
   ]
  },
  {
   "cell_type": "code",
   "execution_count": 51,
   "metadata": {},
   "outputs": [
    {
     "data": {
      "text/plain": [
       "[[3, 4, 1, 8, 7, 6, 5], [2, 0, 9]]"
      ]
     },
     "execution_count": 51,
     "metadata": {},
     "output_type": "execute_result"
    }
   ],
   "source": [
    "# Split the Variable(Array/Range) into Train-Test Data as per Defined % and Defined shuffle value:True\n",
    "\n",
    "train_test_split(y, shuffle = True)"
   ]
  },
  {
   "cell_type": "code",
   "execution_count": 52,
   "metadata": {},
   "outputs": [
    {
     "data": {
      "text/plain": [
       "[array([[ 0,  1],\n",
       "        [ 2,  3],\n",
       "        [ 4,  5],\n",
       "        [ 6,  7],\n",
       "        [ 8,  9],\n",
       "        [10, 11],\n",
       "        [12, 13]]),\n",
       " array([[14, 15],\n",
       "        [16, 17],\n",
       "        [18, 19]])]"
      ]
     },
     "execution_count": 52,
     "metadata": {},
     "output_type": "execute_result"
    }
   ],
   "source": [
    "# Split the Variable(Array/Range) into Train-Test Data as per Defined % and Defined shuffle value:False\n",
    "\n",
    "train_test_split(X, shuffle = False)"
   ]
  },
  {
   "cell_type": "code",
   "execution_count": 53,
   "metadata": {},
   "outputs": [
    {
     "data": {
      "text/plain": [
       "[array([[14, 15],\n",
       "        [ 2,  3],\n",
       "        [ 0,  1],\n",
       "        [12, 13],\n",
       "        [10, 11],\n",
       "        [16, 17],\n",
       "        [ 4,  5]]),\n",
       " array([[ 8,  9],\n",
       "        [18, 19],\n",
       "        [ 6,  7]])]"
      ]
     },
     "execution_count": 53,
     "metadata": {},
     "output_type": "execute_result"
    }
   ],
   "source": [
    "# Split the Variable(Array/Range) into Train-Test Data as per Defined % and Defined shuffle value:True\n",
    "\n",
    "train_test_split(X, shuffle = True)"
   ]
  },
  {
   "cell_type": "code",
   "execution_count": 54,
   "metadata": {},
   "outputs": [
    {
     "data": {
      "text/plain": [
       "[array([[14, 15],\n",
       "        [16, 17],\n",
       "        [ 4,  5],\n",
       "        [ 6,  7],\n",
       "        [18, 19]]),\n",
       " array([[10, 11],\n",
       "        [ 8,  9],\n",
       "        [ 2,  3],\n",
       "        [ 0,  1],\n",
       "        [12, 13]])]"
      ]
     },
     "execution_count": 54,
     "metadata": {},
     "output_type": "execute_result"
    }
   ],
   "source": [
    "# Split the Variable(Array/Range) into Train-Test Data as per Defined % = 50% and Defined shuffle value:True\n",
    "\n",
    "train_test_split(X, test_size=.50, shuffle = True)"
   ]
  },
  {
   "cell_type": "code",
   "execution_count": null,
   "metadata": {},
   "outputs": [],
   "source": []
  }
 ],
 "metadata": {
  "kernelspec": {
   "display_name": "Python 3",
   "language": "python",
   "name": "python3"
  },
  "language_info": {
   "codemirror_mode": {
    "name": "ipython",
    "version": 3
   },
   "file_extension": ".py",
   "mimetype": "text/x-python",
   "name": "python",
   "nbconvert_exporter": "python",
   "pygments_lexer": "ipython3",
   "version": "3.7.4"
  }
 },
 "nbformat": 4,
 "nbformat_minor": 4
}
